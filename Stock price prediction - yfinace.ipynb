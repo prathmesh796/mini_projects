{
 "cells": [
  {
   "cell_type": "code",
   "execution_count": 1,
   "id": "458e4507",
   "metadata": {},
   "outputs": [],
   "source": [
    "import pandas as pd\n",
    "import numpy as np\n",
    "import time\n",
    "import datetime\n",
    "import math\n",
    "from sklearn import preprocessing, svm\n",
    "from sklearn.model_selection import train_test_split\n",
    "from sklearn.linear_model import LinearRegression"
   ]
  },
  {
   "cell_type": "code",
   "execution_count": 2,
   "id": "35a74237",
   "metadata": {},
   "outputs": [],
   "source": [
    "ticker = 'GOOG'\n",
    "period1 = int(time.mktime(datetime.datetime(2000, 1, 1, 23, 59).timetuple()))\n",
    "period2 = int(time.mktime(datetime.datetime(2024, 1, 1, 23, 59).timetuple()))\n",
    "interval = '1wk' #1d, 1m"
   ]
  },
  {
   "cell_type": "code",
   "execution_count": 3,
   "id": "1eea5311",
   "metadata": {},
   "outputs": [],
   "source": [
    "query = f'https://query1.finance.yahoo.com/v7/finance/download/{ticker}?period1={period1}&period2={period2}&interval={interval}&events=history&includeAdjustedClose=true'"
   ]
  },
  {
   "cell_type": "code",
   "execution_count": 4,
   "id": "b2d3a293",
   "metadata": {},
   "outputs": [
    {
     "data": {
      "text/html": [
       "<div>\n",
       "<style scoped>\n",
       "    .dataframe tbody tr th:only-of-type {\n",
       "        vertical-align: middle;\n",
       "    }\n",
       "\n",
       "    .dataframe tbody tr th {\n",
       "        vertical-align: top;\n",
       "    }\n",
       "\n",
       "    .dataframe thead th {\n",
       "        text-align: right;\n",
       "    }\n",
       "</style>\n",
       "<table border=\"1\" class=\"dataframe\">\n",
       "  <thead>\n",
       "    <tr style=\"text-align: right;\">\n",
       "      <th></th>\n",
       "      <th>Date</th>\n",
       "      <th>Open</th>\n",
       "      <th>High</th>\n",
       "      <th>Low</th>\n",
       "      <th>Close</th>\n",
       "      <th>Adj Close</th>\n",
       "      <th>Volume</th>\n",
       "    </tr>\n",
       "  </thead>\n",
       "  <tbody>\n",
       "    <tr>\n",
       "      <th>0</th>\n",
       "      <td>2004-08-16</td>\n",
       "      <td>2.490664</td>\n",
       "      <td>2.716817</td>\n",
       "      <td>2.390042</td>\n",
       "      <td>2.697639</td>\n",
       "      <td>2.694573</td>\n",
       "      <td>1.356285e+09</td>\n",
       "    </tr>\n",
       "    <tr>\n",
       "      <th>1</th>\n",
       "      <td>2004-08-23</td>\n",
       "      <td>2.758411</td>\n",
       "      <td>2.826406</td>\n",
       "      <td>2.579581</td>\n",
       "      <td>2.643840</td>\n",
       "      <td>2.640835</td>\n",
       "      <td>1.125298e+09</td>\n",
       "    </tr>\n",
       "    <tr>\n",
       "      <th>2</th>\n",
       "      <td>2004-08-30</td>\n",
       "      <td>2.622171</td>\n",
       "      <td>2.627402</td>\n",
       "      <td>2.464263</td>\n",
       "      <td>2.490913</td>\n",
       "      <td>2.488082</td>\n",
       "      <td>7.942379e+08</td>\n",
       "    </tr>\n",
       "    <tr>\n",
       "      <th>3</th>\n",
       "      <td>2004-09-06</td>\n",
       "      <td>2.515820</td>\n",
       "      <td>2.654052</td>\n",
       "      <td>2.480951</td>\n",
       "      <td>2.623417</td>\n",
       "      <td>2.620435</td>\n",
       "      <td>4.741185e+08</td>\n",
       "    </tr>\n",
       "    <tr>\n",
       "      <th>4</th>\n",
       "      <td>2004-09-13</td>\n",
       "      <td>2.655795</td>\n",
       "      <td>2.926282</td>\n",
       "      <td>2.651561</td>\n",
       "      <td>2.926282</td>\n",
       "      <td>2.922956</td>\n",
       "      <td>9.670753e+08</td>\n",
       "    </tr>\n",
       "  </tbody>\n",
       "</table>\n",
       "</div>"
      ],
      "text/plain": [
       "         Date      Open      High       Low     Close  Adj Close        Volume\n",
       "0  2004-08-16  2.490664  2.716817  2.390042  2.697639   2.694573  1.356285e+09\n",
       "1  2004-08-23  2.758411  2.826406  2.579581  2.643840   2.640835  1.125298e+09\n",
       "2  2004-08-30  2.622171  2.627402  2.464263  2.490913   2.488082  7.942379e+08\n",
       "3  2004-09-06  2.515820  2.654052  2.480951  2.623417   2.620435  4.741185e+08\n",
       "4  2004-09-13  2.655795  2.926282  2.651561  2.926282   2.922956  9.670753e+08"
      ]
     },
     "execution_count": 4,
     "metadata": {},
     "output_type": "execute_result"
    }
   ],
   "source": [
    "df = pd.read_csv(query)\n",
    "\n",
    "df.head()"
   ]
  },
  {
   "cell_type": "code",
   "execution_count": 5,
   "id": "28944e5b",
   "metadata": {},
   "outputs": [
    {
     "data": {
      "text/html": [
       "<div>\n",
       "<style scoped>\n",
       "    .dataframe tbody tr th:only-of-type {\n",
       "        vertical-align: middle;\n",
       "    }\n",
       "\n",
       "    .dataframe tbody tr th {\n",
       "        vertical-align: top;\n",
       "    }\n",
       "\n",
       "    .dataframe thead th {\n",
       "        text-align: right;\n",
       "    }\n",
       "</style>\n",
       "<table border=\"1\" class=\"dataframe\">\n",
       "  <thead>\n",
       "    <tr style=\"text-align: right;\">\n",
       "      <th></th>\n",
       "      <th>Close</th>\n",
       "      <th>HL_percent</th>\n",
       "      <th>Percent_change</th>\n",
       "      <th>Volume</th>\n",
       "    </tr>\n",
       "  </thead>\n",
       "  <tbody>\n",
       "    <tr>\n",
       "      <th>0</th>\n",
       "      <td>2.697639</td>\n",
       "      <td>0.710918</td>\n",
       "      <td>8.310033</td>\n",
       "      <td>1.356285e+09</td>\n",
       "    </tr>\n",
       "    <tr>\n",
       "      <th>1</th>\n",
       "      <td>2.643840</td>\n",
       "      <td>6.905335</td>\n",
       "      <td>-4.153514</td>\n",
       "      <td>1.125298e+09</td>\n",
       "    </tr>\n",
       "    <tr>\n",
       "      <th>2</th>\n",
       "      <td>2.490913</td>\n",
       "      <td>5.479477</td>\n",
       "      <td>-5.005699</td>\n",
       "      <td>7.942379e+08</td>\n",
       "    </tr>\n",
       "    <tr>\n",
       "      <th>3</th>\n",
       "      <td>2.623417</td>\n",
       "      <td>1.167752</td>\n",
       "      <td>4.276816</td>\n",
       "      <td>4.741185e+08</td>\n",
       "    </tr>\n",
       "    <tr>\n",
       "      <th>4</th>\n",
       "      <td>2.926282</td>\n",
       "      <td>0.000000</td>\n",
       "      <td>10.184785</td>\n",
       "      <td>9.670753e+08</td>\n",
       "    </tr>\n",
       "  </tbody>\n",
       "</table>\n",
       "</div>"
      ],
      "text/plain": [
       "      Close  HL_percent  Percent_change        Volume\n",
       "0  2.697639    0.710918        8.310033  1.356285e+09\n",
       "1  2.643840    6.905335       -4.153514  1.125298e+09\n",
       "2  2.490913    5.479477       -5.005699  7.942379e+08\n",
       "3  2.623417    1.167752        4.276816  4.741185e+08\n",
       "4  2.926282    0.000000       10.184785  9.670753e+08"
      ]
     },
     "execution_count": 5,
     "metadata": {},
     "output_type": "execute_result"
    }
   ],
   "source": [
    "df['HL_percent'] = (df['High'] - df['Close']) / df['Close'] * 100.0\n",
    "df['Percent_change'] = (df['Close'] - df['Open']) / df['Open'] * 100.0\n",
    "\n",
    "df = df[['Close', 'HL_percent', 'Percent_change', 'Volume']]\n",
    "\n",
    "df.head()"
   ]
  },
  {
   "cell_type": "code",
   "execution_count": 6,
   "id": "6988718c",
   "metadata": {},
   "outputs": [
    {
     "name": "stdout",
     "output_type": "stream",
     "text": [
      "11\n"
     ]
    },
    {
     "data": {
      "text/html": [
       "<div>\n",
       "<style scoped>\n",
       "    .dataframe tbody tr th:only-of-type {\n",
       "        vertical-align: middle;\n",
       "    }\n",
       "\n",
       "    .dataframe tbody tr th {\n",
       "        vertical-align: top;\n",
       "    }\n",
       "\n",
       "    .dataframe thead th {\n",
       "        text-align: right;\n",
       "    }\n",
       "</style>\n",
       "<table border=\"1\" class=\"dataframe\">\n",
       "  <thead>\n",
       "    <tr style=\"text-align: right;\">\n",
       "      <th></th>\n",
       "      <th>Close</th>\n",
       "      <th>HL_percent</th>\n",
       "      <th>Percent_change</th>\n",
       "      <th>Volume</th>\n",
       "      <th>label</th>\n",
       "    </tr>\n",
       "  </thead>\n",
       "  <tbody>\n",
       "    <tr>\n",
       "      <th>0</th>\n",
       "      <td>2.697639</td>\n",
       "      <td>0.710918</td>\n",
       "      <td>8.310033</td>\n",
       "      <td>1.356285e+09</td>\n",
       "      <td>4.217940</td>\n",
       "    </tr>\n",
       "    <tr>\n",
       "      <th>1</th>\n",
       "      <td>2.643840</td>\n",
       "      <td>6.905335</td>\n",
       "      <td>-4.153514</td>\n",
       "      <td>1.125298e+09</td>\n",
       "      <td>4.533009</td>\n",
       "    </tr>\n",
       "    <tr>\n",
       "      <th>2</th>\n",
       "      <td>2.490913</td>\n",
       "      <td>5.479477</td>\n",
       "      <td>-5.005699</td>\n",
       "      <td>7.942379e+08</td>\n",
       "      <td>4.219185</td>\n",
       "    </tr>\n",
       "    <tr>\n",
       "      <th>3</th>\n",
       "      <td>2.623417</td>\n",
       "      <td>1.167752</td>\n",
       "      <td>4.276816</td>\n",
       "      <td>4.741185e+08</td>\n",
       "      <td>4.468003</td>\n",
       "    </tr>\n",
       "    <tr>\n",
       "      <th>4</th>\n",
       "      <td>2.926282</td>\n",
       "      <td>0.000000</td>\n",
       "      <td>10.184785</td>\n",
       "      <td>9.670753e+08</td>\n",
       "      <td>4.493159</td>\n",
       "    </tr>\n",
       "  </tbody>\n",
       "</table>\n",
       "</div>"
      ],
      "text/plain": [
       "      Close  HL_percent  Percent_change        Volume     label\n",
       "0  2.697639    0.710918        8.310033  1.356285e+09  4.217940\n",
       "1  2.643840    6.905335       -4.153514  1.125298e+09  4.533009\n",
       "2  2.490913    5.479477       -5.005699  7.942379e+08  4.219185\n",
       "3  2.623417    1.167752        4.276816  4.741185e+08  4.468003\n",
       "4  2.926282    0.000000       10.184785  9.670753e+08  4.493159"
      ]
     },
     "execution_count": 6,
     "metadata": {},
     "output_type": "execute_result"
    }
   ],
   "source": [
    "forecast_col = 'Close'\n",
    "df.fillna(-9999, inplace=True)\n",
    "\n",
    "forecast_out = int(math.ceil(0.01 * len(df)))\n",
    "print(forecast_out)\n",
    "\n",
    "df['label'] = df[forecast_col].shift(-forecast_out)\n",
    "\n",
    "df.dropna(inplace=True)\n",
    "\n",
    "df.head()"
   ]
  },
  {
   "cell_type": "code",
   "execution_count": 10,
   "id": "ef68dcff",
   "metadata": {},
   "outputs": [
    {
     "name": "stdout",
     "output_type": "stream",
     "text": [
      "0.8387448646893464\n"
     ]
    },
    {
     "name": "stderr",
     "output_type": "stream",
     "text": [
      "C:\\Users\\prathmesh\\AppData\\Local\\Programs\\Python\\Python37\\lib\\site-packages\\ipykernel_launcher.py:1: FutureWarning: In a future version of pandas all arguments of DataFrame.drop except for the argument 'labels' will be keyword-only\n",
      "  \"\"\"Entry point for launching an IPython kernel.\n",
      "C:\\Users\\prathmesh\\AppData\\Local\\Programs\\Python\\Python37\\lib\\site-packages\\sklearn\\preprocessing\\_data.py:236: UserWarning: Numerical issues were encountered when centering the data and might not be solved. Dataset may contain too large values. You may need to prescale your features.\n",
      "  \"Numerical issues were encountered \"\n"
     ]
    }
   ],
   "source": [
    "X = np.array(df.drop(['label'], 1))\n",
    "y = np.array(df['label'])\n",
    "\n",
    "X = preprocessing.scale(X)\n",
    "\n",
    "X_train, X_test, y_train, y_test = train_test_split(X, y, test_size=0.2)\n",
    "\n",
    "#clf = LinearRegression() # --> -0.101\n",
    "#clf = LinearRegression(n_jobs=10) # --> 0.028400282642244812\n",
    "clf = svm.SVR() # --> 0.8273249955157471\n",
    "#clf = svm.SVR(kernel='poly') # --> 0.7297308393653856\n",
    "clf.fit(X_train, y_train)\n",
    "accuracy = clf.score(X_test, y_test)\n",
    "\n",
    "print(accuracy)"
   ]
  },
  {
   "cell_type": "code",
   "execution_count": null,
   "id": "b932a5b3",
   "metadata": {},
   "outputs": [],
   "source": []
  }
 ],
 "metadata": {
  "kernelspec": {
   "display_name": "Python 3 (ipykernel)",
   "language": "python",
   "name": "python3"
  },
  "language_info": {
   "codemirror_mode": {
    "name": "ipython",
    "version": 3
   },
   "file_extension": ".py",
   "mimetype": "text/x-python",
   "name": "python",
   "nbconvert_exporter": "python",
   "pygments_lexer": "ipython3",
   "version": "3.7.9"
  }
 },
 "nbformat": 4,
 "nbformat_minor": 5
}
